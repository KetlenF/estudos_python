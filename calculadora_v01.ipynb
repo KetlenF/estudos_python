{
  "nbformat": 4,
  "nbformat_minor": 0,
  "metadata": {
    "colab": {
      "name": "calculadora_v01.ipynb",
      "provenance": [],
      "collapsed_sections": [],
      "authorship_tag": "ABX9TyN/8iQd1o4L/uRq1YqcrEWM",
      "include_colab_link": true
    },
    "kernelspec": {
      "name": "python3",
      "display_name": "Python 3"
    },
    "language_info": {
      "name": "python"
    }
  },
  "cells": [
    {
      "cell_type": "markdown",
      "metadata": {
        "id": "view-in-github",
        "colab_type": "text"
      },
      "source": [
        "<a href=\"https://colab.research.google.com/github/KetlenF/estudos_python/blob/main/calculadora_v01.ipynb\" target=\"_parent\"><img src=\"https://colab.research.google.com/assets/colab-badge.svg\" alt=\"Open In Colab\"/></a>"
      ]
    },
    {
      "cell_type": "code",
      "metadata": {
        "id": "UlzCRjneHLar"
      },
      "source": [
        "# Calculadora em Python\n",
        "\n",
        "# Desenvolva uma calculadora em Python com tudo que você aprendeu nos capítulos 2 e 3. \n",
        "# A solução será apresentada no próximo capítulo!\n",
        "# Assista o vídeo com a execução do programa!\n",
        "\n",
        "print(\"\\n******************* Python Calculator *******************\")"
      ],
      "execution_count": null,
      "outputs": []
    },
    {
      "cell_type": "code",
      "metadata": {
        "id": "LHO25346z86G"
      },
      "source": [
        "# Mostrar as opções disponíveis para o usuário\n",
        "print(\"\\n*********** Favor escolher uma das opções abaixo ***********\")\n",
        "print(\"\\n 1- Soma\")\n",
        "print(\" 2- Subtração\")\n",
        "print(\" 3- Multiplicação\")\n",
        "print(\" 4- Divisão\")"
      ],
      "execution_count": null,
      "outputs": []
    },
    {
      "cell_type": "code",
      "metadata": {
        "colab": {
          "base_uri": "https://localhost:8080/"
        },
        "id": "mxa2TFct0DF9",
        "outputId": "0f148f85-f3b7-47c1-dcd9-8b1301aaec1c"
      },
      "source": [
        "# Receber as variaveis do usuário e valida-las (opção)\n",
        "\n",
        "opcao = int(input(\"Digite uma opção de Cálculo: \"))"
      ],
      "execution_count": null,
      "outputs": [
        {
          "name": "stdout",
          "output_type": "stream",
          "text": [
            "Digite uma opção de Cálculo: 2\n"
          ]
        }
      ]
    },
    {
      "cell_type": "code",
      "metadata": {
        "colab": {
          "base_uri": "https://localhost:8080/"
        },
        "id": "KKMTpMRi09cc",
        "outputId": "5a0a92e4-7843-441c-cbaa-bac520dcb66e"
      },
      "source": [
        "# Receber as variaveis do usuário (num1 e num2)\n",
        "\n",
        "num1 = int(input(\"Digite Primeiro Número: \"))\n",
        "num2 = int(input(\"Digite Segundo Número: \"))\n"
      ],
      "execution_count": null,
      "outputs": [
        {
          "name": "stdout",
          "output_type": "stream",
          "text": [
            "Digite Primeiro Número: 10\n",
            "Digite Segundo Número: 2\n"
          ]
        }
      ]
    },
    {
      "cell_type": "code",
      "metadata": {
        "id": "lp6GrrbV0PUc"
      },
      "source": [
        "# Função de Soma\n",
        "def op1(num1, num2):\n",
        "  soma = num1 + num2\n",
        "  print(\"%d + %d = %d\" %(num1, num2, soma))"
      ],
      "execution_count": null,
      "outputs": []
    },
    {
      "cell_type": "code",
      "metadata": {
        "id": "-Wp9AvUl0V_z"
      },
      "source": [
        "# Função de Subtração\n",
        "def op2(num1, num2):\n",
        "  sub = num1 - num2\n",
        "  print(\"%d - %d = %d\" %(num1, num2, sub))"
      ],
      "execution_count": null,
      "outputs": []
    },
    {
      "cell_type": "code",
      "metadata": {
        "id": "bsHJzOso0Zxo"
      },
      "source": [
        "# Função de Multiplicação\n",
        "def op3(num1, num2):\n",
        "  mult = num1 * num2\n",
        "  print(\"%d * %d = %d\" %(num1, num2, mult))"
      ],
      "execution_count": null,
      "outputs": []
    },
    {
      "cell_type": "code",
      "metadata": {
        "id": "rvG8hUy70c11"
      },
      "source": [
        "# Função de Divisão\n",
        "def op4(num1, num2):\n",
        "  div = num1 / num2\n",
        "  print(\"%d / %d = %d\" %(num1, num2, div))"
      ],
      "execution_count": null,
      "outputs": []
    },
    {
      "cell_type": "code",
      "metadata": {
        "colab": {
          "base_uri": "https://localhost:8080/"
        },
        "id": "8JasywFJ7R88",
        "outputId": "d0dfcc1e-b713-469c-c938-150b7e320647"
      },
      "source": [
        "if (opcao == 1):\n",
        "  op1(num1, num2)\n",
        "elif (opcao == 2):\n",
        "  op2(num1, num2)\n",
        "elif (opcao == 3):\n",
        "  op3(num1, num2)\n",
        "elif (opcao == 4):\n",
        "  op4(num1, num2)\n",
        "else:\n",
        "  print(\"\\nOpção Inválida!\")"
      ],
      "execution_count": null,
      "outputs": [
        {
          "output_type": "stream",
          "name": "stdout",
          "text": [
            "10 - 2 = 8\n"
          ]
        }
      ]
    },
    {
      "cell_type": "code",
      "metadata": {
        "id": "SQLHOvu3003q"
      },
      "source": [
        ""
      ],
      "execution_count": null,
      "outputs": []
    },
    {
      "cell_type": "code",
      "metadata": {
        "id": "thMrMV2bAy6t"
      },
      "source": [
        ""
      ],
      "execution_count": null,
      "outputs": []
    }
  ]
}